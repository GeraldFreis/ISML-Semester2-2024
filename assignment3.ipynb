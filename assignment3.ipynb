{
 "cells": [
  {
   "cell_type": "markdown",
   "metadata": {},
   "source": [
    "# Reading in data and making x and y variables"
   ]
  },
  {
   "cell_type": "code",
   "execution_count": 12,
   "metadata": {},
   "outputs": [],
   "source": [
    "import pandas as pd\n",
    "import matplotlib.pyplot as plt\n",
    "import numpy as np\n",
    "import seaborn as sns\n",
    "from statistics import stdev\n",
    "\n",
    "df = pd.read_csv(\"mnist-1.csv\", low_memory=False, header=None)\n",
    "y = df[0]\n",
    "x = df.drop(columns=[0])\n"
   ]
  },
  {
   "cell_type": "markdown",
   "metadata": {},
   "source": [
    "# Performing PCA now"
   ]
  },
  {
   "cell_type": "markdown",
   "metadata": {},
   "source": [
    "## Subtracting Mean"
   ]
  },
  {
   "cell_type": "code",
   "execution_count": 13,
   "metadata": {},
   "outputs": [],
   "source": [
    "# here we iterate across all columns, find their mean and then subtract that value from all entries in that column\n",
    "for column_iter in range(x.shape[1]):\n",
    "    current_mean = np.mean(x[column_iter+1].to_numpy()) # +1 because index is shifted right\n",
    "    if current_mean != 0:\n",
    "        # if not already zero\n",
    "        x[column_iter+1] = x[column_iter+1] - current_mean"
   ]
  },
  {
   "cell_type": "markdown",
   "metadata": {},
   "source": [
    "#### There is no need to standardize the data because they are pixels and are\n",
    "on the same scale"
   ]
  },
  {
   "cell_type": "markdown",
   "metadata": {},
   "source": [
    "## Calculating covariance matrix"
   ]
  },
  {
   "cell_type": "code",
   "execution_count": 14,
   "metadata": {},
   "outputs": [],
   "source": [
    "# as given in the lectures C = 1/n * X*X^T \n",
    "# first I need the transposed x matrix\n",
    "trans_x = x.to_numpy().T\n",
    "n, m = x.shape\n",
    "Covariance_matrix = np.dot( trans_x, x.to_numpy()) / n\n"
   ]
  },
  {
   "cell_type": "code",
   "execution_count": 7,
   "metadata": {},
   "outputs": [],
   "source": [
    "Covariance_matrix = np.cov(x, rowvar=False)"
   ]
  },
  {
   "cell_type": "markdown",
   "metadata": {},
   "source": [
    "## Calculating eigen vectors and Eigenvalues"
   ]
  },
  {
   "cell_type": "code",
   "execution_count": 19,
   "metadata": {},
   "outputs": [],
   "source": [
    "# im assuming I can use an eigenvalue finding function from numpy\n",
    "eigen_values, eigen_vectors = np.linalg.eigh(Covariance_matrix)"
   ]
  },
  {
   "cell_type": "markdown",
   "metadata": {},
   "source": [
    "## Ranking eigenvector by corresponding values\n"
   ]
  },
  {
   "cell_type": "code",
   "execution_count": 20,
   "metadata": {},
   "outputs": [],
   "source": [
    "sorted_indexs = eigen_values.argsort()[::-1] # sorting in reverse order\n",
    "eigen_values = eigen_values[sorted_indexs] # this ensures that the eigenvalues are made into the correct order\n",
    "eigen_vectors = eigen_vectors[sorted_indexs]\n",
    "\n",
    "principal_components = eigen_vectors[:,:10] # getting the top 10 dimensions of eigenvectors as required"
   ]
  },
  {
   "cell_type": "code",
   "execution_count": 21,
   "metadata": {},
   "outputs": [],
   "source": [
    "X_pca = np.dot(x.to_numpy(), principal_components)"
   ]
  },
  {
   "cell_type": "code",
   "execution_count": 22,
   "metadata": {},
   "outputs": [
    {
     "data": {
      "text/plain": [
       "array([[ 0.01400529,  0.00886169,  0.00158672, -0.00290409,  0.00350262,\n",
       "        -0.00371802, -0.00439566, -0.00087472,  0.00646334, -0.00156487],\n",
       "       [ 0.01400529,  0.00886169,  0.00158672, -0.00290409,  0.00350262,\n",
       "        -0.00371802, -0.00439566, -0.00087472,  0.00646334, -0.00156487],\n",
       "       [ 0.01400529,  0.00886169,  0.00158672, -0.00290409,  0.00350262,\n",
       "        -0.00371802, -0.00439566, -0.00087472,  0.00646334, -0.00156487],\n",
       "       [ 0.01400529,  0.00886169,  0.00158672, -0.00290409,  0.00350262,\n",
       "        -0.00371802, -0.00439566, -0.00087472,  0.00646334, -0.00156487],\n",
       "       [ 0.01400529,  0.00886169, -0.03749282, -0.00290409,  0.00350262,\n",
       "        -0.00371802, -0.00439566, -0.00087472,  0.00646334, -0.00156487]])"
      ]
     },
     "execution_count": 22,
     "metadata": {},
     "output_type": "execute_result"
    }
   ],
   "source": [
    "X_pca[0:5:1]"
   ]
  },
  {
   "cell_type": "markdown",
   "metadata": {},
   "source": [
    "# Kmeans"
   ]
  },
  {
   "cell_type": "markdown",
   "metadata": {},
   "source": [
    "## first we need to define our functions"
   ]
  },
  {
   "cell_type": "code",
   "execution_count": 80,
   "metadata": {},
   "outputs": [],
   "source": [
    "# our distance function is the euclidean distance\n",
    "def euclidean_distance(a, b):\n",
    "    return np.sqrt(np.sum((a - b) ** 2))\n",
    "\n",
    "def E_step(X, prototypes):\n",
    "    # here we fix the points to a cluster (assign to the nearest prototype)\n",
    "    clusters = []\n",
    "    for point in X:\n",
    "        # Compute distance from point to each centroid\n",
    "        distances = [euclidean_distance(point, prototype) for prototype in prototypes]\n",
    "        # Assign point to the nearest centroid\n",
    "        closest_centroid = np.argmin(distances)\n",
    "        clusters.append(closest_centroid)\n",
    "    return np.array(clusters)\n",
    "\n",
    "def M_step(X, clusters, number_of_clusters ):\n",
    "    prototypes = [] # creating new prototypes\n",
    "\n",
    "    for i in range(number_of_clusters):\n",
    "\n",
    "        # get all points assigned to that cluster\n",
    "        samples = X[clusters == i]\n",
    "\n",
    "        if (len(samples) > 0): # if there is more than one value in the cluster\n",
    "            prototype = np.mean(samples, axis=0)\n",
    "        else: # if no points we randomly initialise \n",
    "            prototype = X[np.random.choice(X.shape[0])]\n",
    "        prototypes.append(prototype) # adding prototype to the list\n",
    "    return np.array(prototypes)\n",
    "\n",
    "def get_loss(X, prototypes, clusters):\n",
    "    # this finds the euclidean distance for each prototype, adds it to a total counter and returns it\n",
    "    loss = 0\n",
    "    for i, point in enumerate(X):\n",
    "        prototype = prototypes[clusters[i]]\n",
    "        loss += np.sum((point - prototype) ** 2)\n",
    "    return loss\n",
    "\n",
    "def random_initialisation(X, number_of_clusters):\n",
    "    # randomly selecting a number of points from the dataset to be the prototypes\n",
    "    prototypes = X[np.random.choice(X.shape[0], number_of_clusters, replace=False)]\n",
    "    return prototypes\n",
    "\n",
    "def kmeans_implementation(X, number_of_clusters, iterations=100):\n",
    "    prototypes = random_initialisation(X, number_of_clusters)\n",
    "    loss_list = list()\n",
    "\n",
    "    for iteration in range(iterations):\n",
    "        clusters = E_step(X, prototypes)\n",
    "\n",
    "        new_prototypes = M_step(X, clusters, number_of_clusters)\n",
    "        loss_list.append( get_loss(X, new_prototypes, clusters) )\n",
    "        \n",
    "        if np.all(np.abs(new_prototypes - prototypes) < 1e-4):\n",
    "            break\n",
    "        \n",
    "        prototypes = new_prototypes\n",
    "    \n",
    "    plt.plot(loss_list)\n",
    "    plt.xlabel('Iteration')\n",
    "    plt.ylabel('Loss (Cost J)')\n",
    "    plt.title('KMeans Loss Function Over Iterations')\n",
    "    plt.show()\n",
    "    return loss_list[-1] # returning the final loss"
   ]
  },
  {
   "cell_type": "code",
   "execution_count": 79,
   "metadata": {},
   "outputs": [
    {
     "data": {
      "image/png": "[encoded data removed]",
      "text/plain": [
       "<Figure size 640x480 with 1 Axes>"
      ]
     },
     "metadata": {},
     "output_type": "display_data"
    }
   ],
   "source": [
    "kmeans_implementation(x.to_numpy(), 10)\n"
   ]
  },
  {
   "cell_type": "markdown",
   "metadata": {},
   "source": [
    "# Finding the best K in K means"
   ]
  },
  {
   "cell_type": "code",
   "execution_count": 127,
   "metadata": {},
   "outputs": [],
   "source": [
    "# our distance function is the euclidean distance\n",
    "def euclidean_distance(a, b):\n",
    "    return np.sqrt(np.sum((a - b) ** 2))\n",
    "\n",
    "def E_step(X, prototypes):\n",
    "    # here we fix the points to a cluster (assign to the nearest prototype)\n",
    "    clusters = []\n",
    "    for point in X:\n",
    "        # Compute distance from point to each centroid\n",
    "        distances = [euclidean_distance(point, prototype) for prototype in prototypes]\n",
    "        # Assign point to the nearest centroid\n",
    "        closest_centroid = np.argmin(distances)\n",
    "        clusters.append(closest_centroid)\n",
    "    return np.array(clusters)\n",
    "\n",
    "def M_step(X, clusters, number_of_clusters ):\n",
    "    prototypes = [] # creating new prototypes\n",
    "\n",
    "    for i in range(number_of_clusters):\n",
    "\n",
    "        # get all points assigned to that cluster\n",
    "        samples = X[clusters == i]\n",
    "\n",
    "        if (len(samples) > 0): # if there is more than one value in the cluster\n",
    "            prototype = np.mean(samples, axis=0)\n",
    "        else: # if no points we randomly initialise \n",
    "            prototype = X[np.random.choice(X.shape[0])]\n",
    "        prototypes.append(prototype) # adding prototype to the list\n",
    "    return np.array(prototypes)\n",
    "\n",
    "def get_loss(X, prototypes, clusters):\n",
    "    # this finds the euclidean distance for each prototype, adds it to a total counter and returns it\n",
    "    loss = 0\n",
    "    for i, point in enumerate(X):\n",
    "        prototype = prototypes[clusters[i]]\n",
    "        loss += np.sum((point - prototype) ** 2)\n",
    "    return loss\n",
    "\n",
    "def random_initialisation(X, number_of_clusters):\n",
    "    # randomly selecting a number of points from the dataset to be the prototypes\n",
    "    prototypes = X[np.random.choice(X.shape[0], number_of_clusters, replace=False)]\n",
    "    return prototypes\n",
    "\n",
    "def kmeans_implementation(X, number_of_clusters, iterations=100):\n",
    "    prototypes = random_initialisation(X, number_of_clusters)\n",
    "    loss_list = list()\n",
    "\n",
    "    for iteration in range(iterations):\n",
    "        clusters = E_step(X, prototypes)\n",
    "\n",
    "        new_prototypes = M_step(X, clusters, number_of_clusters)\n",
    "        loss_list.append( get_loss(X, new_prototypes, clusters) )\n",
    "        \n",
    "        if np.all(np.abs(new_prototypes - prototypes) < 1e-4):\n",
    "            break\n",
    "        \n",
    "        prototypes = new_prototypes\n",
    "    \n",
    "    return prototypes, clusters, loss_list[-1] # returning the final loss"
   ]
  },
  {
   "cell_type": "code",
   "execution_count": 128,
   "metadata": {},
   "outputs": [],
   "source": [
    "training_set_x = x.to_numpy()[0:3999:1]\n",
    "validation_set_x = x.to_numpy()[4000:5999:1]\n"
   ]
  },
  {
   "cell_type": "code",
   "execution_count": 133,
   "metadata": {},
   "outputs": [],
   "source": [
    "\n",
    "best_k_loss = float('inf')\n",
    "best_k_value = 0\n",
    "losses = list()\n",
    "for k in range(2,100, 2):\n",
    "\n",
    "    prototypes, clusters, training_loss = kmeans_implementation(training_set_x, k)\n",
    "    validation_clusters = E_step(validation_set_x, prototypes)\n",
    "    validation_loss = get_loss(validation_set_x, prototypes, validation_clusters)\n",
    "    losses.append(validation_loss)\n",
    "    if(validation_loss < best_k_loss):\n",
    "        best_k_loss = validation_loss\n",
    "        best_k_value = k\n",
    "    "
   ]
  },
  {
   "cell_type": "code",
   "execution_count": 135,
   "metadata": {},
   "outputs": [
    {
     "name": "stdout",
     "output_type": "stream",
     "text": [
      "Best K: 94 with best loss of: 59008.72234457686\n"
     ]
    }
   ],
   "source": [
    "print(\"Best K: {} with best loss of: {}\".format(best_k_value, best_k_loss))"
   ]
  },
  {
   "cell_type": "code",
   "execution_count": 134,
   "metadata": {},
   "outputs": [
    {
     "data": {
      "image/png": "[encoded data removed]",
      "text/plain": [
       "<Figure size 640x480 with 1 Axes>"
      ]
     },
     "metadata": {},
     "output_type": "display_data"
    }
   ],
   "source": [
    "plt.plot(losses)\n",
    "plt.xlabel('Number of Clusters')\n",
    "plt.ylabel('Validation Loss (Cost J)')\n",
    "plt.title('KMeans Validation Loss Function Over Amount of Clusters')\n",
    "plt.show()"
   ]
  },
  {
   "cell_type": "markdown",
   "metadata": {},
   "source": [
    "# implementing the Kernel K means algorithm with RBF kernel"
   ]
  },
  {
   "cell_type": "code",
   "execution_count": 125,
   "metadata": {},
   "outputs": [],
   "source": [
    "import numpy as np\n",
    "from math import pow\n",
    "\n",
    "def distances_between_samples(samples):\n",
    "    n, m = samples.shape\n",
    "    distance_matrix = np.zeros((n, n))  # creating a n x n distance matrix between pairs\n",
    "    # now calculating the distance between samples\n",
    "    for i in range(n):\n",
    "        for j in range(n):\n",
    "            distance_matrix[i][j] = np.sum((samples[i] - samples[j]) ** 2) \n",
    "    return distance_matrix\n",
    "\n",
    "def rbf_kernel_function(samples, sigma):\n",
    "    distances = distances_between_samples(samples)\n",
    "    return np.exp(-distances / (2 * pow(sigma, 2)))\n",
    "\n",
    "def random_initialisation(samples, number_of_clusters):\n",
    "    # randomly selecting a number of points from the dataset to be the prototypes\n",
    "    prototype_indices = np.random.choice(samples.shape[0], number_of_clusters, replace=False)\n",
    "    prototypes = samples[prototype_indices]\n",
    "    return prototypes, prototype_indices\n",
    "\n",
    "def e_step(samples, number_of_clusters, prototype_indices, kernel_matrix):\n",
    "    n, m = samples.shape\n",
    "    clusters = np.zeros(n, dtype=int)\n",
    "    for i in range(n):\n",
    "        distances_to_prototypes = np.zeros(number_of_clusters)\n",
    "        for k in range(number_of_clusters):\n",
    "            dist = kernel_matrix[i][prototype_indices[k]]  # kernel value between ith sample and kth prototype\n",
    "            distances_to_prototypes[k] = -2 * dist + kernel_matrix[prototype_indices[k], prototype_indices[k]]\n",
    "        clusters[i] = np.argmin(distances_to_prototypes)  # choosing closest prototype\n",
    "    return clusters\n",
    "\n",
    "def m_step(samples, kernel_matrix, cluster_assignments, number_of_clusters):\n",
    "    clusters = [np.where(cluster_assignments == k)[0] for k in range(number_of_clusters)]\n",
    "    n, m = samples.shape\n",
    "\n",
    "    new_clusters = np.zeros(n, dtype=int)\n",
    "\n",
    "    # iterating over all samples and finding their distances to the clusters\n",
    "    for i in range(n):\n",
    "        distances = np.zeros(number_of_clusters)\n",
    "\n",
    "        for k in range(number_of_clusters):\n",
    "            if len(clusters[k]) >= 1:\n",
    "                # now we compute the kernel distance given the kernel trick\n",
    "                first_term = kernel_matrix[i][i]  # distance of ith sample to itself\n",
    "                second_term = np.sum(kernel_matrix[i][clusters[k]]) / len(clusters[k])\n",
    "                third_term = np.sum(kernel_matrix[clusters[k], :][:, clusters[k]]) / (len(clusters[k]) ** 2)\n",
    "\n",
    "                distances[k] = first_term - 2 * second_term + third_term\n",
    "            else:\n",
    "                distances[k] = float('inf')\n",
    "        \n",
    "        new_clusters[i] = np.argmin(distances)  # choosing closest cluster based on the kernel distance\n",
    "    return new_clusters\n",
    "\n",
    "def rbf_kmeans(samples, number_of_clusters):\n",
    "    n, m = samples.shape\n",
    "    distances = distances_between_samples(samples)\n",
    "    \n",
    "    # Finding sigma as stipulated\n",
    "    sigma_squared = np.sum(distances) / (n ** 2)\n",
    "    sigma = np.sqrt(sigma_squared / 2)  # Take square root of (1/2 * variance)\n",
    "\n",
    "    # Finding the kernel matrix using the given kernel\n",
    "    kernel_matrix = rbf_kernel_function(samples, sigma)\n",
    "\n",
    "    prototypes, prototype_idxs = random_initialisation(samples, number_of_clusters)\n",
    "    cluster_assignments = e_step(samples, number_of_clusters, prototype_idxs, kernel_matrix)\n",
    "\n",
    "\n",
    "    for iteration in range(100):  # iterating for 100 epochs\n",
    "        new_clusters = m_step(samples, kernel_matrix, cluster_assignments, number_of_clusters)\n",
    "        # checking for convergence\n",
    "        if np.all(cluster_assignments == new_clusters): \n",
    "            break\n",
    "        else:\n",
    "            cluster_assignments = new_clusters\n",
    "    \n",
    "    return cluster_assignments, prototypes\n",
    "\n",
    "samples_to_use = x.to_numpy()[0:500:1]\n",
    "cluster_assignments, prototypes = rbf_kmeans(samples_to_use, number_of_clusters=5)\n"
   ]
  }
 ],
 "metadata": {
  "kernelspec": {
   "display_name": "baseEnv",
   "language": "python",
   "name": "python3"
  },
  "language_info": {
   "codemirror_mode": {
    "name": "ipython",
    "version": 3
   },
   "file_extension": ".py",
   "mimetype": "text/x-python",
   "name": "python",
   "nbconvert_exporter": "python",
   "pygments_lexer": "ipython3",
   "version": "3.8.17"
  }
 },
 "nbformat": 4,
 "nbformat_minor": 2
}
