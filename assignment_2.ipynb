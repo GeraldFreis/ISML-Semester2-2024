{
 "cells": [
  {
   "cell_type": "code",
   "execution_count": 8,
   "metadata": {},
   "outputs": [],
   "source": [
    "import pandas as pd\n",
    "import numpy as np\n",
    "\n"
   ]
  },
  {
   "cell_type": "markdown",
   "metadata": {},
   "source": [
    "Reading the files in"
   ]
  },
  {
   "cell_type": "code",
   "execution_count": 28,
   "metadata": {},
   "outputs": [],
   "source": [
    "train_df = pd.read_csv(\"train.csv\", low_memory=False)\n",
    "test_df = pd.read_csv(\"test.csv\", low_memory=False)\n",
    "train_df['0.00'] = train_df['0.00'].replace([0.0], [-1.0])\n",
    "test_df['1.00'] = test_df['1.00'].replace([0.0], [-1.0])\n",
    "\n",
    "val_df = train_df[4000::1]\n",
    "train_df = train_df[0:4000:1]\n",
    "\n",
    "train_x = train_df.drop(columns=['0.00'])\n",
    "train_y = train_df['0.00']\n",
    "\n",
    "val_x = val_df.drop(columns=['0.00'])\n",
    "val_y = val_df['0.00']\n",
    "\n",
    "test_x = test_df.drop(columns=['1.00'])\n",
    "test_y = test_df['1.00']"
   ]
  },
  {
   "cell_type": "code",
   "execution_count": 19,
   "metadata": {},
   "outputs": [],
   "source": [
    "val_df.reset_index(inplace=True)"
   ]
  },
  {
   "cell_type": "markdown",
   "metadata": {},
   "source": [
    "Implementing Primal Form soft margin SVM"
   ]
  },
  {
   "cell_type": "code",
   "execution_count": 31,
   "metadata": {},
   "outputs": [],
   "source": [
    "import cvxpy as cv\n",
    "def svm_train_primal(data_train, label_train, regularisation_constant):\n",
    "    \"\"\"Training the w and b parameters for the soft margin SVM in primal Form\"\"\"\n",
    "   \n",
    "\n",
    "    # defining variables\n",
    "    n_samples, n_features = data_train.shape \n",
    "    w = cv.Variable(n_features)\n",
    "    b = cv.Variable()\n",
    "    x_i = cv.Variable(n_samples)\n",
    "\n",
    "    # minimising the objective function\n",
    "    objective_function = cv.Minimize(0.5 * cv.norm(w, 2) ** 2 + regularisation_constant * cv.sum(x_i))\n",
    "\n",
    "    # setting the constraints formulas\n",
    "    constraints = [label_train[i] * (data_train[i] @ w + b) >= 1 - x_i[i] for i in range(n_samples)]\n",
    "    constraints += [x_i >= 0]\n",
    "\n",
    "    prob = cv.Problem(objective_function, constraints)\n",
    "    prob.solve()\n",
    "    \n",
    "    return w.value, b.value\n",
    "\n",
    "def svm_predict_primal ( data_test , label_test , svm_model ):\n",
    "    return np.sign(data_test @ svm_model[0] + svm_model[1])"
   ]
  },
  {
   "cell_type": "markdown",
   "metadata": {},
   "source": [
    "Training SVM model with primal"
   ]
  },
  {
   "cell_type": "code",
   "execution_count": 34,
   "metadata": {},
   "outputs": [],
   "source": [
    "svm_model = svm_train_primal(train_x.to_numpy(), train_y.to_numpy(), 100)"
   ]
  },
  {
   "cell_type": "markdown",
   "metadata": {},
   "source": [
    "Getting accuracies for primal svm"
   ]
  },
  {
   "cell_type": "code",
   "execution_count": 35,
   "metadata": {},
   "outputs": [],
   "source": [
    "svm_predictions_train = svm_predict_primal(train_x.to_numpy(), train_y.to_numpy(), svm_model)\n",
    "svm_predictions_test = svm_predict_primal(test_x.to_numpy(), test_y.to_numpy(), svm_model)"
   ]
  },
  {
   "cell_type": "code",
   "execution_count": 38,
   "metadata": {},
   "outputs": [
    {
     "name": "stdout",
     "output_type": "stream",
     "text": [
      "Train Accuracy: 98.45%\n",
      "Test Accuracy: 96.86%\n"
     ]
    }
   ],
   "source": [
    "train_accuracy = np.mean(svm_predictions_train == train_y.to_numpy()) * 100\n",
    "test_accuracy = np.mean(svm_predictions_test == test_y.to_numpy()) * 100\n",
    "\n",
    "print(f\"Train Accuracy: {train_accuracy:.2f}%\")\n",
    "print(f\"Test Accuracy: {test_accuracy:.2f}%\")"
   ]
  },
  {
   "cell_type": "markdown",
   "metadata": {},
   "source": [
    "Printing W and B"
   ]
  },
  {
   "cell_type": "code",
   "execution_count": 39,
   "metadata": {},
   "outputs": [
    {
     "name": "stdout",
     "output_type": "stream",
     "text": [
      "Sum of W across dimensions: -0.16\n",
      "b: 2.980545994257868\n"
     ]
    }
   ],
   "source": [
    "print(\"Sum of W across dimensions: {:.2f}\\nb: {}\".format(svm_model[0].sum(), svm_model[1]))"
   ]
  },
  {
   "cell_type": "markdown",
   "metadata": {},
   "source": [
    "Implementing soft margin SVM in dual form"
   ]
  },
  {
   "cell_type": "code",
   "execution_count": 48,
   "metadata": {},
   "outputs": [],
   "source": [
    "import cvxpy as cvx\n",
    "\n",
    "def svm_train_dual ( data_train , label_train , regularisation_para_C ):\n",
    "    # initialising variables\n",
    "    n, m = data_train.shape\n",
    "    a = cvx.Variable(n)\n",
    "    \n",
    "    # setting the linear kernel\n",
    "    k = data_train @ data_train.T\n",
    "    # setting the objective function as required\n",
    "    objective_function = cvx.Maximize(cvx.sum(a) - 0.5 * cvx.quad_form(cvx.multiply(a, label_train), k))\n",
    "\n",
    "    # setting the constraints\n",
    "    constraints = [ a <= regularisation_para_C / n, cvx.sum(cvx.multiply(a, label_train)) == 0, a >= 0]\n",
    "\n",
    "    # maximising the problem in regards to the constraints\n",
    "    problem = cvx.Problem(objective_function, constraints)\n",
    "    problem.solve()\n",
    "\n",
    "    # now calculating w and b\n",
    "    w = np.sum((a.value * label_train)[:,None] * data_train, axis = 0)\n",
    "\n",
    "    # selecting vectors with a > 0\n",
    "    support_index = np.where(a > 1e-6)[0]\n",
    "    b = np.mean(label_train[support_index] - data_train[support_index] @ w)\n",
    "\n",
    "    return w, b, a"
   ]
  },
  {
   "cell_type": "code",
   "execution_count": 49,
   "metadata": {},
   "outputs": [
    {
     "ename": "DCPError",
     "evalue": "Problem does not follow DCP rules. Specifically:\nThe objective is not DCP. Its following subexpressions are not:\nQuadForm(var88051 @ [ 1.  1.  1. ...  1.  1. -1.], [[280.27 -45.10 ... 92.47 3.15]\n [-45.10 259.69 ... -57.98 28.78]\n ...\n [92.47 -57.98 ... 262.64 -14.62]\n [3.15 28.78 ... -14.62 260.14]])",
     "output_type": "error",
     "traceback": [
      "\u001b[0;31m---------------------------------------------------------------------------\u001b[0m",
      "\u001b[0;31mDCPError\u001b[0m                                  Traceback (most recent call last)",
      "\u001b[1;32m/Users/geraldfreislich/Desktop/CS/UNIProgramming/Year 3/ISML-Semester2-2024/assignment_2.ipynb Cell 16\u001b[0m line \u001b[0;36m1\n\u001b[0;32m----> <a href='vscode-notebook-cell:/Users/geraldfreislich/Desktop/CS/UNIProgramming/Year%203/ISML-Semester2-2024/assignment_2.ipynb#X26sZmlsZQ%3D%3D?line=0'>1</a>\u001b[0m svm_model \u001b[39m=\u001b[39m svm_train_dual ( train_x\u001b[39m.\u001b[39;49mto_numpy() , train_y\u001b[39m.\u001b[39;49mto_numpy() , \u001b[39m100\u001b[39;49m )\n\u001b[1;32m      <a href='vscode-notebook-cell:/Users/geraldfreislich/Desktop/CS/UNIProgramming/Year%203/ISML-Semester2-2024/assignment_2.ipynb#X26sZmlsZQ%3D%3D?line=2'>3</a>\u001b[0m svm_predictions_train \u001b[39m=\u001b[39m svm_predict_primal(train_x\u001b[39m.\u001b[39mto_numpy(), train_y\u001b[39m.\u001b[39mto_numpy(), svm_model)\n\u001b[1;32m      <a href='vscode-notebook-cell:/Users/geraldfreislich/Desktop/CS/UNIProgramming/Year%203/ISML-Semester2-2024/assignment_2.ipynb#X26sZmlsZQ%3D%3D?line=3'>4</a>\u001b[0m svm_predictions_test \u001b[39m=\u001b[39m svm_predict_primal(test_x\u001b[39m.\u001b[39mto_numpy(), test_y\u001b[39m.\u001b[39mto_numpy(), svm_model)\n",
      "\u001b[1;32m/Users/geraldfreislich/Desktop/CS/UNIProgramming/Year 3/ISML-Semester2-2024/assignment_2.ipynb Cell 16\u001b[0m line \u001b[0;36m1\n\u001b[1;32m     <a href='vscode-notebook-cell:/Users/geraldfreislich/Desktop/CS/UNIProgramming/Year%203/ISML-Semester2-2024/assignment_2.ipynb#X26sZmlsZQ%3D%3D?line=15'>16</a>\u001b[0m \u001b[39m# maximising the problem in regards to the constraints\u001b[39;00m\n\u001b[1;32m     <a href='vscode-notebook-cell:/Users/geraldfreislich/Desktop/CS/UNIProgramming/Year%203/ISML-Semester2-2024/assignment_2.ipynb#X26sZmlsZQ%3D%3D?line=16'>17</a>\u001b[0m problem \u001b[39m=\u001b[39m cvx\u001b[39m.\u001b[39mProblem(objective_function, constraints)\n\u001b[0;32m---> <a href='vscode-notebook-cell:/Users/geraldfreislich/Desktop/CS/UNIProgramming/Year%203/ISML-Semester2-2024/assignment_2.ipynb#X26sZmlsZQ%3D%3D?line=17'>18</a>\u001b[0m problem\u001b[39m.\u001b[39;49msolve()\n\u001b[1;32m     <a href='vscode-notebook-cell:/Users/geraldfreislich/Desktop/CS/UNIProgramming/Year%203/ISML-Semester2-2024/assignment_2.ipynb#X26sZmlsZQ%3D%3D?line=19'>20</a>\u001b[0m \u001b[39m# now calculating w and b\u001b[39;00m\n\u001b[1;32m     <a href='vscode-notebook-cell:/Users/geraldfreislich/Desktop/CS/UNIProgramming/Year%203/ISML-Semester2-2024/assignment_2.ipynb#X26sZmlsZQ%3D%3D?line=20'>21</a>\u001b[0m w \u001b[39m=\u001b[39m np\u001b[39m.\u001b[39msum((a\u001b[39m.\u001b[39mvalue \u001b[39m*\u001b[39m label_train)[:,\u001b[39mNone\u001b[39;00m] \u001b[39m*\u001b[39m data_train, axis \u001b[39m=\u001b[39m \u001b[39m0\u001b[39m)\n",
      "File \u001b[0;32m/opt/homebrew/anaconda3/envs/MLEnv/lib/python3.8/site-packages/cvxpy/problems/problem.py:503\u001b[0m, in \u001b[0;36mProblem.solve\u001b[0;34m(self, *args, **kwargs)\u001b[0m\n\u001b[1;32m    501\u001b[0m \u001b[39melse\u001b[39;00m:\n\u001b[1;32m    502\u001b[0m     solve_func \u001b[39m=\u001b[39m Problem\u001b[39m.\u001b[39m_solve\n\u001b[0;32m--> 503\u001b[0m \u001b[39mreturn\u001b[39;00m solve_func(\u001b[39mself\u001b[39;49m, \u001b[39m*\u001b[39;49margs, \u001b[39m*\u001b[39;49m\u001b[39m*\u001b[39;49mkwargs)\n",
      "File \u001b[0;32m/opt/homebrew/anaconda3/envs/MLEnv/lib/python3.8/site-packages/cvxpy/problems/problem.py:1073\u001b[0m, in \u001b[0;36mProblem._solve\u001b[0;34m(self, solver, warm_start, verbose, gp, qcp, requires_grad, enforce_dpp, ignore_dpp, canon_backend, **kwargs)\u001b[0m\n\u001b[1;32m   1070\u001b[0m         \u001b[39mself\u001b[39m\u001b[39m.\u001b[39munpack(chain\u001b[39m.\u001b[39mretrieve(soln))\n\u001b[1;32m   1071\u001b[0m         \u001b[39mreturn\u001b[39;00m \u001b[39mself\u001b[39m\u001b[39m.\u001b[39mvalue\n\u001b[0;32m-> 1073\u001b[0m data, solving_chain, inverse_data \u001b[39m=\u001b[39m \u001b[39mself\u001b[39;49m\u001b[39m.\u001b[39;49mget_problem_data(\n\u001b[1;32m   1074\u001b[0m     solver, gp, enforce_dpp, ignore_dpp, verbose, canon_backend, kwargs\n\u001b[1;32m   1075\u001b[0m )\n\u001b[1;32m   1077\u001b[0m \u001b[39mif\u001b[39;00m verbose:\n\u001b[1;32m   1078\u001b[0m     \u001b[39mprint\u001b[39m(_NUM_SOLVER_STR)\n",
      "File \u001b[0;32m/opt/homebrew/anaconda3/envs/MLEnv/lib/python3.8/site-packages/cvxpy/problems/problem.py:646\u001b[0m, in \u001b[0;36mProblem.get_problem_data\u001b[0;34m(self, solver, gp, enforce_dpp, ignore_dpp, verbose, canon_backend, solver_opts)\u001b[0m\n\u001b[1;32m    644\u001b[0m \u001b[39mif\u001b[39;00m key \u001b[39m!=\u001b[39m \u001b[39mself\u001b[39m\u001b[39m.\u001b[39m_cache\u001b[39m.\u001b[39mkey:\n\u001b[1;32m    645\u001b[0m     \u001b[39mself\u001b[39m\u001b[39m.\u001b[39m_cache\u001b[39m.\u001b[39minvalidate()\n\u001b[0;32m--> 646\u001b[0m     solving_chain \u001b[39m=\u001b[39m \u001b[39mself\u001b[39;49m\u001b[39m.\u001b[39;49m_construct_chain(\n\u001b[1;32m    647\u001b[0m         solver\u001b[39m=\u001b[39;49msolver, gp\u001b[39m=\u001b[39;49mgp,\n\u001b[1;32m    648\u001b[0m         enforce_dpp\u001b[39m=\u001b[39;49menforce_dpp,\n\u001b[1;32m    649\u001b[0m         ignore_dpp\u001b[39m=\u001b[39;49mignore_dpp,\n\u001b[1;32m    650\u001b[0m         canon_backend\u001b[39m=\u001b[39;49mcanon_backend,\n\u001b[1;32m    651\u001b[0m         solver_opts\u001b[39m=\u001b[39;49msolver_opts)\n\u001b[1;32m    652\u001b[0m     \u001b[39mself\u001b[39m\u001b[39m.\u001b[39m_cache\u001b[39m.\u001b[39mkey \u001b[39m=\u001b[39m key\n\u001b[1;32m    653\u001b[0m     \u001b[39mself\u001b[39m\u001b[39m.\u001b[39m_cache\u001b[39m.\u001b[39msolving_chain \u001b[39m=\u001b[39m solving_chain\n",
      "File \u001b[0;32m/opt/homebrew/anaconda3/envs/MLEnv/lib/python3.8/site-packages/cvxpy/problems/problem.py:898\u001b[0m, in \u001b[0;36mProblem._construct_chain\u001b[0;34m(self, solver, gp, enforce_dpp, ignore_dpp, canon_backend, solver_opts)\u001b[0m\n\u001b[1;32m    896\u001b[0m candidate_solvers \u001b[39m=\u001b[39m \u001b[39mself\u001b[39m\u001b[39m.\u001b[39m_find_candidate_solvers(solver\u001b[39m=\u001b[39msolver, gp\u001b[39m=\u001b[39mgp)\n\u001b[1;32m    897\u001b[0m \u001b[39mself\u001b[39m\u001b[39m.\u001b[39m_sort_candidate_solvers(candidate_solvers)\n\u001b[0;32m--> 898\u001b[0m \u001b[39mreturn\u001b[39;00m construct_solving_chain(\u001b[39mself\u001b[39;49m, candidate_solvers, gp\u001b[39m=\u001b[39;49mgp,\n\u001b[1;32m    899\u001b[0m                                enforce_dpp\u001b[39m=\u001b[39;49menforce_dpp,\n\u001b[1;32m    900\u001b[0m                                ignore_dpp\u001b[39m=\u001b[39;49mignore_dpp,\n\u001b[1;32m    901\u001b[0m                                canon_backend\u001b[39m=\u001b[39;49mcanon_backend,\n\u001b[1;32m    902\u001b[0m                                solver_opts\u001b[39m=\u001b[39;49msolver_opts,\n\u001b[1;32m    903\u001b[0m                                specified_solver\u001b[39m=\u001b[39;49msolver)\n",
      "File \u001b[0;32m/opt/homebrew/anaconda3/envs/MLEnv/lib/python3.8/site-packages/cvxpy/reductions/solvers/solving_chain.py:228\u001b[0m, in \u001b[0;36mconstruct_solving_chain\u001b[0;34m(problem, candidates, gp, enforce_dpp, ignore_dpp, canon_backend, solver_opts, specified_solver)\u001b[0m\n\u001b[1;32m    226\u001b[0m \u001b[39mif\u001b[39;00m \u001b[39mlen\u001b[39m(problem\u001b[39m.\u001b[39mvariables()) \u001b[39m==\u001b[39m \u001b[39m0\u001b[39m:\n\u001b[1;32m    227\u001b[0m     \u001b[39mreturn\u001b[39;00m SolvingChain(reductions\u001b[39m=\u001b[39m[ConstantSolver()])\n\u001b[0;32m--> 228\u001b[0m reductions \u001b[39m=\u001b[39m _reductions_for_problem_class(problem, candidates, gp, solver_opts)\n\u001b[1;32m    230\u001b[0m \u001b[39m# Process DPP status of the problem.\u001b[39;00m\n\u001b[1;32m    231\u001b[0m dpp_context \u001b[39m=\u001b[39m \u001b[39m'\u001b[39m\u001b[39mdcp\u001b[39m\u001b[39m'\u001b[39m \u001b[39mif\u001b[39;00m \u001b[39mnot\u001b[39;00m gp \u001b[39melse\u001b[39;00m \u001b[39m'\u001b[39m\u001b[39mdgp\u001b[39m\u001b[39m'\u001b[39m\n",
      "File \u001b[0;32m/opt/homebrew/anaconda3/envs/MLEnv/lib/python3.8/site-packages/cvxpy/reductions/solvers/solving_chain.py:143\u001b[0m, in \u001b[0;36m_reductions_for_problem_class\u001b[0;34m(problem, candidates, gp, solver_opts)\u001b[0m\n\u001b[1;32m    140\u001b[0m     \u001b[39melif\u001b[39;00m problem\u001b[39m.\u001b[39mis_dqcp():\n\u001b[1;32m    141\u001b[0m         append \u001b[39m+\u001b[39m\u001b[39m=\u001b[39m (\u001b[39m\"\u001b[39m\u001b[39m\\n\u001b[39;00m\u001b[39mHowever, the problem does follow DQCP rules. \u001b[39m\u001b[39m\"\u001b[39m\n\u001b[1;32m    142\u001b[0m                    \u001b[39m\"\u001b[39m\u001b[39mConsider calling solve() with `qcp=True`.\u001b[39m\u001b[39m\"\u001b[39m)\n\u001b[0;32m--> 143\u001b[0m     \u001b[39mraise\u001b[39;00m DCPError(\n\u001b[1;32m    144\u001b[0m         \u001b[39m\"\u001b[39m\u001b[39mProblem does not follow DCP rules. Specifically:\u001b[39m\u001b[39m\\n\u001b[39;00m\u001b[39m\"\u001b[39m \u001b[39m+\u001b[39m append)\n\u001b[1;32m    145\u001b[0m \u001b[39melif\u001b[39;00m gp \u001b[39mand\u001b[39;00m \u001b[39mnot\u001b[39;00m problem\u001b[39m.\u001b[39mis_dgp():\n\u001b[1;32m    146\u001b[0m     append \u001b[39m=\u001b[39m build_non_disciplined_error_msg(problem, \u001b[39m'\u001b[39m\u001b[39mDGP\u001b[39m\u001b[39m'\u001b[39m)\n",
      "\u001b[0;31mDCPError\u001b[0m: Problem does not follow DCP rules. Specifically:\nThe objective is not DCP. Its following subexpressions are not:\nQuadForm(var88051 @ [ 1.  1.  1. ...  1.  1. -1.], [[280.27 -45.10 ... 92.47 3.15]\n [-45.10 259.69 ... -57.98 28.78]\n ...\n [92.47 -57.98 ... 262.64 -14.62]\n [3.15 28.78 ... -14.62 260.14]])"
     ]
    }
   ],
   "source": [
    "svm_model = svm_train_dual ( train_x.to_numpy() , train_y.to_numpy() , 100 )\n",
    "\n",
    "svm_predictions_train = svm_predict_primal(train_x.to_numpy(), train_y.to_numpy(), svm_model)\n",
    "svm_predictions_test = svm_predict_primal(test_x.to_numpy(), test_y.to_numpy(), svm_model)\n"
   ]
  }
 ],
 "metadata": {
  "kernelspec": {
   "display_name": "MLEnv",
   "language": "python",
   "name": "python3"
  },
  "language_info": {
   "codemirror_mode": {
    "name": "ipython",
    "version": 3
   },
   "file_extension": ".py",
   "mimetype": "text/x-python",
   "name": "python",
   "nbconvert_exporter": "python",
   "pygments_lexer": "ipython3",
   "version": "3.8.18"
  },
  "orig_nbformat": 4
 },
 "nbformat": 4,
 "nbformat_minor": 2
}
